{
 "cells": [
  {
   "cell_type": "code",
   "execution_count": 144,
   "metadata": {},
   "outputs": [],
   "source": [
    "import numpy as np\n",
    "import networkx as nx\n",
    "import matplotlib.pyplot as plt"
   ]
  },
  {
   "cell_type": "code",
   "execution_count": 145,
   "metadata": {},
   "outputs": [
    {
     "name": "stdout",
     "output_type": "stream",
     "text": [
      "The autoreload extension is already loaded. To reload it, use:\n",
      "  %reload_ext autoreload\n"
     ]
    }
   ],
   "source": [
    "%load_ext autoreload"
   ]
  },
  {
   "cell_type": "code",
   "execution_count": 146,
   "metadata": {},
   "outputs": [],
   "source": [
    "%autoreload 1"
   ]
  },
  {
   "cell_type": "code",
   "execution_count": 147,
   "metadata": {},
   "outputs": [],
   "source": [
    "%aimport utils"
   ]
  },
  {
   "cell_type": "code",
   "execution_count": 148,
   "metadata": {},
   "outputs": [],
   "source": [
    "%aimport student_utils"
   ]
  },
  {
   "cell_type": "code",
   "execution_count": 149,
   "metadata": {},
   "outputs": [],
   "source": [
    "%aimport solver"
   ]
  },
  {
   "cell_type": "code",
   "execution_count": 150,
   "metadata": {},
   "outputs": [
    {
     "name": "stdout",
     "output_type": "stream",
     "text": [
      "Processing 50ins//85_50.in\n",
      "['loc0', 'loc2', 'loc27', 'loc38', 'loc26', 'loc18', 'loc22', 'loc4', 'loc14', 'loc12', 'loc48', 'loc6', 'loc32', 'loc20', 'loc28', 'loc21', 'loc44', 'loc24', 'loc46', 'loc40', 'loc30', 'loc42', 'loc10', 'loc34', 'loc36', 'loc0']\n",
      "[0, 2, 27, 38, 26, 18, 22, 4, 14, 12, 48, 6, 32, 20, 28, 21, 44, 24, 46, 40, 30, 42, 10, 34, 36, 0]\n",
      "[0, 2, 27, 38, 26, 18, 22, 4, 14, 12, 48, 6, 32, 20, 28, 21, 44, 24, 46, 40, 30, 42, 10, 34, 36, 0]\n",
      "[0, 12, 14, 18, 22, 36, 34, 42, 8, 42, 26, 24, 46, 30, 44, 21, 20, 48, 10, 48, 4, 0, 38, 0, 2, 27, 0]\n",
      "50outs/85_50.out\n",
      "hi\n",
      "Processing 50ins//192_50.in\n",
      "['Zeus', 'Sona', 'Blitzcrank', 'Jax', 'EmberSpirit', 'TreantProtector', 'Lycan', 'Olaf', 'Nocturne', 'Axe', 'Renekton', 'Leshrac', 'Enchantress', 'Slardar', 'Tidehunter', 'Dazzle', 'Timbersaw', 'Kled', 'Syndra', 'Twitch', 'Bloodseeker', 'Shen', 'ElderTitan', 'Xayah', 'Lulu', 'Braum', 'Sven', 'Zeus']\n",
      "[4, 34, 24, 27, 35, 29, 7, 25, 8, 22, 10, 31, 39, 16, 28, 36, 21, 0, 5, 32, 37, 3, 17, 19, 1, 26, 13, 4]\n",
      "[4, 34, 24, 27, 35, 29, 7, 25, 8, 22, 10, 31, 39, 16, 28, 36, 21, 0, 5, 32, 37, 3, 17, 19, 1, 26, 13, 4]\n",
      "[4, 37, 1, 19, 22, 8, 7, 29, 13, 17, 3, 16, 10, 26, 35, 24, 36, 5, 31, 39, 32, 4]\n",
      "50outs/192_50.out\n",
      "hi\n",
      "Processing 50ins//293_50.in\n",
      "['Soda', 'Campanile', 'Soda']\n",
      "[0, 3, 0]\n",
      "[0, 3, 0]\n",
      "[0, 3, 2, 3, 4, 3, 5, 3, 0]\n",
      "50outs/293_50.out\n",
      "hi\n",
      "Processing 50ins//78_50.in\n",
      "['17', '4', '25', '22', '23', '41', '6', '2', '3', '29', '37', '5', '33', '7', '38', '1', '39', '12', '36', '14', '31', '46', '40', '13', '16', '30', '19', '24', '21', '44', '35', '26', '48', '20', '17']\n",
      "[17, 4, 25, 22, 23, 41, 6, 2, 3, 29, 37, 5, 33, 7, 38, 1, 39, 12, 36, 14, 31, 46, 40, 13, 16, 30, 19, 24, 21, 44, 35, 26, 48, 20, 17]\n",
      "[17, 4, 25, 22, 23, 41, 6, 2, 3, 29, 37, 5, 33, 7, 38, 1, 39, 12, 36, 14, 31, 46, 40, 13, 16, 30, 19, 24, 21, 44, 35, 26, 48, 20, 17]\n",
      "[17, 22, 16, 7, 2, 35, 46, 25, 21, 33, 37, 33, 12, 1, 26, 9, 10, 48, 44, 19, 30, 24, 31, 20, 3, 20, 33, 37, 13, 4, 17]\n",
      "50outs/78_50.out\n",
      "hi\n",
      "Processing 50ins//152_50.in\n",
      "['Jacksonville', 'Omaha', 'Tulsa', 'Austin', 'Louisville', 'SanFrancisco', 'Columbus', 'Tucson', 'Minneapolis', 'Chicago', 'Atlanta', 'Fresno', 'Dallas', 'Tampa', 'Arlington', 'Portland', 'Seattle', 'Mesa', 'ColoradoSprings', 'OklahomaCity', 'Phoenix', 'Oakland', 'Houston', 'Albuquerque', 'VirginiaBeach', 'Philadelphia', 'Miami', 'SanAntonio', 'LongBeach', 'LasVegas', 'Boston', 'Charlotte', 'Nashville', 'ElPaso', 'LosAngeles', 'FortWorth', 'SanJose', 'Indianapolis', 'Baltimore', 'Raleigh', 'Detroit', 'Milwaukee', 'Jacksonville']\n",
      "[11, 41, 46, 10, 28, 14, 13, 32, 45, 2, 36, 33, 8, 48, 47, 24, 17, 34, 38, 26, 4, 44, 3, 31, 43, 5, 39, 6, 42, 27, 20, 15, 23, 21, 1, 12, 9, 16, 29, 40, 22, 30, 11]\n",
      "[11, 41, 46, 10, 28, 14, 13, 32, 45, 2, 36, 33, 8, 48, 47, 24, 17, 34, 38, 26, 4, 44, 3, 31, 43, 5, 39, 6, 42, 27, 20, 15, 23, 21, 1, 12, 9, 16, 29, 40, 22, 30, 11]\n",
      "[11, 36, 28, 36, 14, 36, 33, 36, 11, 30, 32, 13, 22, 46, 45, 2, 5, 44, 4, 26, 12, 9, 20, 9, 16, 1, 40, 25, 40, 10, 41, 42, 27, 17, 24, 47, 44, 31, 44, 5, 3, 38, 43, 23, 21, 23, 30, 11]\n",
      "50outs/152_50.out\n",
      "hi\n",
      "Processing 50ins//117_50.in\n",
      "['SA01', 'SC10', 'SB09', 'SA09', 'SC03', 'SB11', 'SA11', 'SB02', 'SC08', 'SA08', 'SB10', 'SB03', 'SC09', 'SA03', 'SA10', 'SC07', 'SB08', 'SA01']\n",
      "[0, 35, 21, 8, 28, 23, 10, 14, 33, 7, 22, 15, 34, 2, 9, 32, 20, 0]\n",
      "[0, 35, 21, 8, 28, 23, 10, 14, 33, 7, 22, 15, 34, 2, 9, 32, 20, 0]\n",
      "[0, 6, 5, 2, 3, 2, 4, 2, 1, 2, 5, 6, 7, 8, 9, 10, 11, 10, 14, 15, 16, 15, 17, 15, 18, 19, 20, 21, 22, 23, 24, 23, 32, 31, 28, 29, 28, 30, 28, 27, 28, 31, 32, 33, 34, 35, 36, 37, 36, 35, 34, 33, 32, 23, 22, 21, 20, 19, 10, 9, 8, 7, 6, 0]\n",
      "50outs/117_50.out\n",
      "hi\n",
      "Processing 50ins//45_50.in\n",
      "['Soda', 'L5', 'L47', 'L33', 'L42', 'L32', 'L22', 'L18', 'L4', 'L20', 'L3', 'L44', 'L30', 'L48', 'L25', 'L1', 'L43', 'L26', 'L23', 'L14', 'L2', 'L31', 'L41', 'L0', 'L7', 'L6', 'L24', 'L27', 'L45', 'L8', 'L10', 'L29', 'L37', 'L19', 'L38', 'L15', 'L34', 'L40', 'L12', 'L28', 'L11', 'L46', 'L39', 'L13', 'L17', 'L35', 'L36', 'L16', 'Soda']\n",
      "[0, 6, 48, 34, 43, 33, 23, 19, 5, 21, 4, 45, 31, 49, 26, 2, 44, 27, 24, 15, 3, 32, 42, 1, 8, 7, 25, 28, 46, 9, 11, 30, 38, 20, 39, 16, 35, 41, 13, 29, 12, 47, 40, 14, 18, 36, 37, 17, 0]\n",
      "[0, 6, 48, 34, 43, 33, 23, 19, 5, 21, 4, 45, 31, 49, 26, 2, 44, 27, 24, 15, 3, 32, 42, 1, 8, 7, 25, 28, 46, 9, 11, 30, 38, 20, 39, 16, 35, 41, 13, 29, 12, 47, 40, 14, 18, 36, 37, 17, 0]\n",
      "[0, 44, 11, 8, 16, 36, 17, 18, 13, 41, 20, 23, 9, 42, 25, 28, 27, 24, 29, 14, 26, 46, 40, 43, 30, 16, 15, 3, 32, 39, 32, 0]\n",
      "50outs/45_50.out\n",
      "hi\n",
      "Processing 50ins//253_50.in\n",
      "['Shower0', 'Cone13', 'Light1', 'YouTube4', 'Laptop22', 'Robot49', 'Rollers40', 'Ice42', 'Soda18', 'Plants3', 'BBQ38', 'Elevator35', 'Boat48', 'Android27', 'Sink37', 'Puppy28', 'Monster32', 'Allergies7', 'Puppy19', 'Website21', 'Ring33', 'Toilet26', 'Ice30', 'BBQ36', 'Cat44', 'Mail41', 'Nuclear43', 'Crab16', 'Toilet45', 'Prints25', 'Websites24', 'Shower0']\n",
      "[0, 13, 1, 4, 22, 49, 40, 42, 18, 3, 38, 35, 48, 27, 37, 28, 32, 7, 19, 21, 33, 26, 30, 36, 44, 41, 43, 16, 45, 25, 24, 0]\n",
      "[0, 13, 1, 4, 22, 49, 40, 42, 18, 3, 38, 35, 48, 27, 37, 28, 32, 7, 19, 21, 33, 26, 30, 36, 44, 41, 43, 16, 45, 25, 24, 0]\n",
      "[0, 49, 29, 36, 40, 37, 27, 32, 35, 48, 13, 48, 7, 22, 19, 24, 4, 24, 43, 16, 21, 18, 21, 14, 33, 30, 45, 42, 3, 38, 25, 26, 41, 1, 34, 0]\n",
      "50outs/253_50.out\n",
      "hi\n",
      "Processing 50ins//216_50.in\n",
      "['0', '27', '5', '0']\n",
      "[0, 27, 5, 0]\n",
      "[0, 27, 5, 0]\n",
      "[0, 5, 10, 15, 0]\n",
      "50outs/216_50.out\n",
      "hi\n",
      "Processing 50ins//277_50.in\n",
      "['39', '7', '41', '47', '25', '31', '21', '43', '30', '17', '24', '45', '27', '33', '19', '2', '5', '16', '12', '44', '48', '28', '10', '34', '35', '39', '39']\n",
      "[39, 7, 41, 47, 25, 31, 21, 43, 30, 17, 24, 45, 27, 33, 19, 2, 5, 16, 12, 44, 48, 28, 10, 34, 35, 39, 39]\n",
      "[39, 7, 41, 47, 25, 31, 21, 43, 30, 17, 24, 45, 27, 33, 19, 2, 5, 16, 12, 44, 48, 28, 10, 34, 35, 39, 39]\n",
      "[39, 47, 10, 31, 0, 31, 10, 47, 13, 2, 21, 24, 22, 24, 43, 34, 17, 48, 6, 48, 49, 28, 30, 35, 26, 25, 26, 35, 7, 19, 45, 19, 5, 31, 10, 47, 16, 3, 16, 12, 33, 44, 27, 41, 39]\n",
      "50outs/277_50.out\n",
      "hi\n",
      "Processing 50ins//232_50.in\n",
      "['36', '45', '34', '42', '16', '3', '49', '31', '20', '48', '29', '47', '9', '41', '11', '27', '32', '30', '26', '24', '14', '4', '8', '38', '7', '2', '36']\n",
      "[35, 44, 33, 41, 15, 2, 48, 30, 19, 47, 28, 46, 8, 40, 10, 26, 31, 29, 25, 23, 13, 3, 7, 37, 6, 1, 35]\n",
      "[35, 44, 33, 41, 15, 2, 48, 30, 19, 47, 28, 46, 8, 40, 10, 26, 31, 29, 25, 23, 13, 3, 7, 37, 6, 1, 35]\n",
      "[35, 1, 31, 2, 31, 10, 20, 13, 23, 0, 23, 46, 34, 28, 3, 11, 3, 14, 37, 17, 37, 26, 35, 29, 12, 15, 6, 27, 6, 41, 49, 7, 16, 7, 30, 31, 40, 4, 19, 44, 32, 44, 25, 33, 18, 8, 22, 8, 48, 7, 10, 47, 21, 47, 42, 47, 1, 35]\n",
      "50outs/232_50.out\n",
      "hi\n",
      "Processing 50ins//61_50.in\n"
     ]
    },
    {
     "ename": "KeyboardInterrupt",
     "evalue": "",
     "output_type": "error",
     "traceback": [
      "\u001b[0;31m---------------------------------------------------------------------------\u001b[0m",
      "\u001b[0;31mKeyboardInterrupt\u001b[0m                         Traceback (most recent call last)",
      "\u001b[0;32m~/Desktop/cs170/cs170project/solver.py\u001b[0m in \u001b[0;36m<module>\u001b[0;34m\u001b[0m\n\u001b[1;32m    367\u001b[0m     \u001b[0;32mif\u001b[0m \u001b[0margs\u001b[0m\u001b[0;34m.\u001b[0m\u001b[0mall\u001b[0m\u001b[0;34m:\u001b[0m\u001b[0;34m\u001b[0m\u001b[0;34m\u001b[0m\u001b[0m\n\u001b[1;32m    368\u001b[0m         \u001b[0minput_directory\u001b[0m \u001b[0;34m=\u001b[0m \u001b[0margs\u001b[0m\u001b[0;34m.\u001b[0m\u001b[0minput\u001b[0m\u001b[0;34m\u001b[0m\u001b[0;34m\u001b[0m\u001b[0m\n\u001b[0;32m--> 369\u001b[0;31m         \u001b[0msolve_all\u001b[0m\u001b[0;34m(\u001b[0m\u001b[0minput_directory\u001b[0m\u001b[0;34m,\u001b[0m \u001b[0moutput_directory\u001b[0m\u001b[0;34m,\u001b[0m \u001b[0mparams\u001b[0m\u001b[0;34m=\u001b[0m\u001b[0margs\u001b[0m\u001b[0;34m.\u001b[0m\u001b[0mparams\u001b[0m\u001b[0;34m)\u001b[0m\u001b[0;34m\u001b[0m\u001b[0;34m\u001b[0m\u001b[0m\n\u001b[0m\u001b[1;32m    370\u001b[0m     \u001b[0;32melse\u001b[0m\u001b[0;34m:\u001b[0m\u001b[0;34m\u001b[0m\u001b[0;34m\u001b[0m\u001b[0m\n\u001b[1;32m    371\u001b[0m         \u001b[0minput_file\u001b[0m \u001b[0;34m=\u001b[0m \u001b[0margs\u001b[0m\u001b[0;34m.\u001b[0m\u001b[0minput\u001b[0m\u001b[0;34m\u001b[0m\u001b[0;34m\u001b[0m\u001b[0m\n",
      "\u001b[0;32m~/Desktop/cs170/cs170project/solver.py\u001b[0m in \u001b[0;36msolve_all\u001b[0;34m(input_directory, output_directory, params)\u001b[0m\n\u001b[1;32m    340\u001b[0m \u001b[0;34m\u001b[0m\u001b[0m\n\u001b[1;32m    341\u001b[0m     \u001b[0;32mfor\u001b[0m \u001b[0minput_file\u001b[0m \u001b[0;32min\u001b[0m \u001b[0minput_files\u001b[0m\u001b[0;34m:\u001b[0m\u001b[0;34m\u001b[0m\u001b[0;34m\u001b[0m\u001b[0m\n\u001b[0;32m--> 342\u001b[0;31m         \u001b[0msolve_from_file\u001b[0m\u001b[0;34m(\u001b[0m\u001b[0minput_file\u001b[0m\u001b[0;34m,\u001b[0m \u001b[0moutput_directory\u001b[0m\u001b[0;34m,\u001b[0m \u001b[0mparams\u001b[0m\u001b[0;34m=\u001b[0m\u001b[0mparams\u001b[0m\u001b[0;34m)\u001b[0m\u001b[0;34m\u001b[0m\u001b[0;34m\u001b[0m\u001b[0m\n\u001b[0m\u001b[1;32m    343\u001b[0m \u001b[0;34m\u001b[0m\u001b[0m\n\u001b[1;32m    344\u001b[0m \u001b[0;34m\u001b[0m\u001b[0m\n",
      "\u001b[0;32m~/Desktop/cs170/cs170project/solver.py\u001b[0m in \u001b[0;36msolve_from_file\u001b[0;34m(input_file, output_directory, params)\u001b[0m\n\u001b[1;32m    325\u001b[0m         \u001b[0mstarting_car_location\u001b[0m\u001b[0;34m,\u001b[0m\u001b[0;34m\u001b[0m\u001b[0;34m\u001b[0m\u001b[0m\n\u001b[1;32m    326\u001b[0m         \u001b[0madjacency_matrix\u001b[0m\u001b[0;34m,\u001b[0m\u001b[0;34m\u001b[0m\u001b[0;34m\u001b[0m\u001b[0m\n\u001b[0;32m--> 327\u001b[0;31m         \u001b[0mparams\u001b[0m\u001b[0;34m=\u001b[0m\u001b[0mparams\u001b[0m\u001b[0;34m,\u001b[0m\u001b[0;34m\u001b[0m\u001b[0;34m\u001b[0m\u001b[0m\n\u001b[0m\u001b[1;32m    328\u001b[0m     )\n\u001b[1;32m    329\u001b[0m \u001b[0;34m\u001b[0m\u001b[0m\n",
      "\u001b[0;32m~/Desktop/cs170/cs170project/solver.py\u001b[0m in \u001b[0;36msolve\u001b[0;34m(list_of_locations, list_of_homes, starting_car_location, adjacency_matrix, params)\u001b[0m\n\u001b[1;32m     37\u001b[0m     \u001b[0medgelist\u001b[0m \u001b[0;34m=\u001b[0m \u001b[0madjacency_matrix_to_edge_list\u001b[0m\u001b[0;34m(\u001b[0m\u001b[0madjacency_matrix\u001b[0m\u001b[0;34m)\u001b[0m\u001b[0;34m\u001b[0m\u001b[0;34m\u001b[0m\u001b[0m\n\u001b[1;32m     38\u001b[0m \u001b[0;34m\u001b[0m\u001b[0m\n\u001b[0;32m---> 39\u001b[0;31m     \u001b[0mgshPath\u001b[0m\u001b[0;34m,\u001b[0m \u001b[0mgshDropoffs\u001b[0m \u001b[0;34m=\u001b[0m \u001b[0mgeneralizedSavingsHeuristic\u001b[0m\u001b[0;34m(\u001b[0m\u001b[0mlist_of_locations\u001b[0m\u001b[0;34m,\u001b[0m \u001b[0mlist_of_homes\u001b[0m\u001b[0;34m,\u001b[0m \u001b[0mstarting_car_location\u001b[0m\u001b[0;34m,\u001b[0m \u001b[0madjacency_matrix\u001b[0m\u001b[0;34m)\u001b[0m\u001b[0;34m\u001b[0m\u001b[0;34m\u001b[0m\u001b[0m\n\u001b[0m\u001b[1;32m     40\u001b[0m     \u001b[0mtrhPath\u001b[0m\u001b[0;34m,\u001b[0m \u001b[0mtrhDropoffs\u001b[0m \u001b[0;34m=\u001b[0m \u001b[0mtourReductionHeuristic\u001b[0m\u001b[0;34m(\u001b[0m\u001b[0mlist_of_locations\u001b[0m\u001b[0;34m,\u001b[0m \u001b[0mlist_of_homes\u001b[0m\u001b[0;34m,\u001b[0m \u001b[0mstarting_car_location\u001b[0m\u001b[0;34m,\u001b[0m \u001b[0madjacency_matrix\u001b[0m\u001b[0;34m)\u001b[0m\u001b[0;34m\u001b[0m\u001b[0;34m\u001b[0m\u001b[0m\n\u001b[1;32m     41\u001b[0m \u001b[0;34m\u001b[0m\u001b[0m\n",
      "\u001b[0;32m~/Desktop/cs170/cs170project/solver.py\u001b[0m in \u001b[0;36mgeneralizedSavingsHeuristic\u001b[0;34m(list_of_locations, list_of_homes, starting_car_location, adjacency_matrix)\u001b[0m\n\u001b[1;32m    109\u001b[0m             \u001b[0;32mfor\u001b[0m \u001b[0mj\u001b[0m \u001b[0;32min\u001b[0m \u001b[0mpath\u001b[0m\u001b[0;34m:\u001b[0m\u001b[0;34m\u001b[0m\u001b[0;34m\u001b[0m\u001b[0m\n\u001b[1;32m    110\u001b[0m                 \u001b[0;32mfor\u001b[0m \u001b[0mp\u001b[0m \u001b[0;32min\u001b[0m \u001b[0mlist_of_locations\u001b[0m\u001b[0;34m:\u001b[0m\u001b[0;34m\u001b[0m\u001b[0;34m\u001b[0m\u001b[0m\n\u001b[0;32m--> 111\u001b[0;31m                     \u001b[0;32mif\u001b[0m \u001b[0;32mnot\u001b[0m \u001b[0mp\u001b[0m \u001b[0;32min\u001b[0m \u001b[0mpath\u001b[0m\u001b[0;34m:\u001b[0m\u001b[0;34m\u001b[0m\u001b[0;34m\u001b[0m\u001b[0m\n\u001b[0m\u001b[1;32m    112\u001b[0m                         \u001b[0mtempsum\u001b[0m \u001b[0;34m=\u001b[0m \u001b[0;36m0\u001b[0m\u001b[0;34m\u001b[0m\u001b[0;34m\u001b[0m\u001b[0m\n\u001b[1;32m    113\u001b[0m                         \u001b[0;32mfor\u001b[0m \u001b[0mk\u001b[0m \u001b[0;32min\u001b[0m \u001b[0mlist_of_homes\u001b[0m\u001b[0;34m:\u001b[0m\u001b[0;34m\u001b[0m\u001b[0;34m\u001b[0m\u001b[0m\n",
      "\u001b[0;31mKeyboardInterrupt\u001b[0m: "
     ]
    }
   ],
   "source": [
    "%run solver.py --all 50ins/ 50outs/"
   ]
  },
  {
   "cell_type": "code",
   "execution_count": null,
   "metadata": {},
   "outputs": [],
   "source": []
  },
  {
   "cell_type": "code",
   "execution_count": 109,
   "metadata": {},
   "outputs": [],
   "source": [
    "data = utils.read_file(\"inputs/1_50.in\")\n",
    "number_of_locations, number_of_houses, list_of_locations, list_of_houses, starting_location, adjacency_matrix = student_utils.data_parser(data)"
   ]
  },
  {
   "cell_type": "code",
   "execution_count": 110,
   "metadata": {},
   "outputs": [],
   "source": [
    "agraph, message = student_utils.adjacency_matrix_to_graph(adjacency_matrix)\n",
    "edgelist = student_utils.adjacency_matrix_to_edge_list(adjacency_matrix)"
   ]
  },
  {
   "cell_type": "code",
   "execution_count": 111,
   "metadata": {},
   "outputs": [],
   "source": [
    "nx.write_gexf(agraph, \"test.gexf\")"
   ]
  },
  {
   "cell_type": "code",
   "execution_count": null,
   "metadata": {},
   "outputs": [],
   "source": []
  },
  {
   "cell_type": "code",
   "execution_count": null,
   "metadata": {},
   "outputs": [],
   "source": []
  }
 ],
 "metadata": {
  "kernelspec": {
   "display_name": "Python 3",
   "language": "python",
   "name": "python3"
  },
  "language_info": {
   "codemirror_mode": {
    "name": "ipython",
    "version": 3
   },
   "file_extension": ".py",
   "mimetype": "text/x-python",
   "name": "python",
   "nbconvert_exporter": "python",
   "pygments_lexer": "ipython3",
   "version": "3.7.4"
  }
 },
 "nbformat": 4,
 "nbformat_minor": 4
}
