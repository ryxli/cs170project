{
 "cells": [
  {
   "cell_type": "code",
   "execution_count": 144,
   "metadata": {},
   "outputs": [],
   "source": [
    "import numpy as np\n",
    "import networkx as nx\n",
    "import matplotlib.pyplot as plt"
   ]
  },
  {
   "cell_type": "code",
   "execution_count": 145,
   "metadata": {},
   "outputs": [
    {
     "name": "stdout",
     "output_type": "stream",
     "text": [
      "The autoreload extension is already loaded. To reload it, use:\n",
      "  %reload_ext autoreload\n"
     ]
    }
   ],
   "source": [
    "%load_ext autoreload"
   ]
  },
  {
   "cell_type": "code",
   "execution_count": 146,
   "metadata": {},
   "outputs": [],
   "source": [
    "%autoreload 1"
   ]
  },
  {
   "cell_type": "code",
   "execution_count": 147,
   "metadata": {},
   "outputs": [],
   "source": [
    "%aimport utils"
   ]
  },
  {
   "cell_type": "code",
   "execution_count": 148,
   "metadata": {},
   "outputs": [],
   "source": [
    "%aimport student_utils"
   ]
  },
  {
   "cell_type": "code",
   "execution_count": 149,
   "metadata": {},
   "outputs": [],
   "source": [
    "%aimport solver"
   ]
  },
  {
   "cell_type": "code",
   "execution_count": null,
   "metadata": {},
   "outputs": [
    {
     "name": "stdout",
     "output_type": "stream",
     "text": [
      "Processing 100in/part3//152_100.in\n",
      "100outs/part3/152_100.out\n",
      "hi\n",
      "Processing 100in/part3//168_100.in\n",
      "100outs/part3/168_100.out\n",
      "hi\n",
      "Processing 100in/part3//164_100.in\n",
      "100outs/part3/164_100.out\n",
      "hi\n",
      "Processing 100in/part3//204_100.in\n",
      "100outs/part3/204_100.out\n",
      "hi\n",
      "Processing 100in/part3//216_100.in\n",
      "100outs/part3/216_100.out\n",
      "hi\n",
      "Processing 100in/part3//208_100.in\n",
      "100outs/part3/208_100.out\n",
      "hi\n",
      "Processing 100in/part3//220_100.in\n",
      "100outs/part3/220_100.out\n",
      "hi\n",
      "Processing 100in/part3//197_100.in\n",
      "100outs/part3/197_100.out\n",
      "hi\n",
      "Processing 100in/part3//189_100.in\n",
      "100outs/part3/189_100.out\n",
      "hi\n",
      "Processing 100in/part3//185_100.in\n",
      "100outs/part3/185_100.out\n",
      "hi\n",
      "Processing 100in/part3//214_100.in\n",
      "100outs/part3/214_100.out\n",
      "hi\n",
      "Processing 100in/part3//218_100.in\n",
      "100outs/part3/218_100.out\n",
      "hi\n",
      "Processing 100in/part3//206_100.in\n",
      "100outs/part3/206_100.out\n",
      "hi\n",
      "Processing 100in/part3//199_100.in\n",
      "100outs/part3/199_100.out\n",
      "hi\n",
      "Processing 100in/part3//187_100.in\n",
      "100outs/part3/187_100.out\n",
      "hi\n",
      "Processing 100in/part3//222_100.in\n",
      "100outs/part3/222_100.out\n",
      "hi\n",
      "Processing 100in/part3//195_100.in\n",
      "100outs/part3/195_100.out\n",
      "hi\n",
      "Processing 100in/part3//166_100.in\n",
      "100outs/part3/166_100.out\n",
      "hi\n",
      "Processing 100in/part3//178_100.in\n",
      "100outs/part3/178_100.out\n",
      "hi\n",
      "Processing 100in/part3//174_100.in\n",
      "100outs/part3/174_100.out\n",
      "hi\n",
      "Processing 100in/part3//191_100.in\n",
      "100outs/part3/191_100.out\n",
      "hi\n",
      "Processing 100in/part3//183_100.in\n",
      "100outs/part3/183_100.out\n",
      "hi\n",
      "Processing 100in/part3//202_100.in\n",
      "100outs/part3/202_100.out\n",
      "hi\n",
      "Processing 100in/part3//210_100.in\n",
      "100outs/part3/210_100.out\n",
      "hi\n",
      "Processing 100in/part3//170_100.in\n",
      "100outs/part3/170_100.out\n",
      "hi\n",
      "Processing 100in/part3//162_100.in\n",
      "100outs/part3/162_100.out\n",
      "hi\n",
      "Processing 100in/part3//154_100.in\n"
     ]
    }
   ],
   "source": [
    "%run solver.py --all 100in/part3/ 100outs/part3/"
   ]
  },
  {
   "cell_type": "code",
   "execution_count": null,
   "metadata": {},
   "outputs": [],
   "source": []
  },
  {
   "cell_type": "code",
   "execution_count": 109,
   "metadata": {},
   "outputs": [],
   "source": [
    "data = utils.read_file(\"inputs/1_50.in\")\n",
    "number_of_locations, number_of_houses, list_of_locations, list_of_houses, starting_location, adjacency_matrix = student_utils.data_parser(data)"
   ]
  },
  {
   "cell_type": "code",
   "execution_count": 110,
   "metadata": {},
   "outputs": [],
   "source": [
    "agraph, message = student_utils.adjacency_matrix_to_graph(adjacency_matrix)\n",
    "edgelist = student_utils.adjacency_matrix_to_edge_list(adjacency_matrix)"
   ]
  },
  {
   "cell_type": "code",
   "execution_count": 111,
   "metadata": {},
   "outputs": [],
   "source": [
    "nx.write_gexf(agraph, \"test.gexf\")"
   ]
  },
  {
   "cell_type": "code",
   "execution_count": null,
   "metadata": {},
   "outputs": [],
   "source": []
  },
  {
   "cell_type": "code",
   "execution_count": null,
   "metadata": {},
   "outputs": [],
   "source": []
  }
 ],
 "metadata": {
  "kernelspec": {
   "display_name": "Python 3",
   "language": "python",
   "name": "python3"
  },
  "language_info": {
   "codemirror_mode": {
    "name": "ipython",
    "version": 3
   },
   "file_extension": ".py",
   "mimetype": "text/x-python",
   "name": "python",
   "nbconvert_exporter": "python",
   "pygments_lexer": "ipython3",
   "version": "3.7.4"
  }
 },
 "nbformat": 4,
 "nbformat_minor": 4
}
