{
 "cells": [
  {
   "cell_type": "code",
   "execution_count": 144,
   "metadata": {},
   "outputs": [],
   "source": [
    "import numpy as np\n",
    "import networkx as nx\n",
    "import matplotlib.pyplot as plt"
   ]
  },
  {
   "cell_type": "code",
   "execution_count": 145,
   "metadata": {},
   "outputs": [
    {
     "name": "stdout",
     "output_type": "stream",
     "text": [
      "The autoreload extension is already loaded. To reload it, use:\n",
      "  %reload_ext autoreload\n"
     ]
    }
   ],
   "source": [
    "%load_ext autoreload"
   ]
  },
  {
   "cell_type": "code",
   "execution_count": 146,
   "metadata": {},
   "outputs": [],
   "source": [
    "%autoreload 1"
   ]
  },
  {
   "cell_type": "code",
   "execution_count": 147,
   "metadata": {},
   "outputs": [],
   "source": [
    "%aimport utils"
   ]
  },
  {
   "cell_type": "code",
   "execution_count": 148,
   "metadata": {},
   "outputs": [],
   "source": [
    "%aimport student_utils"
   ]
  },
  {
   "cell_type": "code",
   "execution_count": 149,
   "metadata": {},
   "outputs": [],
   "source": [
    "%aimport solver"
   ]
  },
  {
   "cell_type": "code",
   "execution_count": null,
   "metadata": {
    "scrolled": true
   },
   "outputs": [
    {
     "name": "stdout",
     "output_type": "stream",
     "text": [
      "Processing 100in/part2//100_100.in\n",
      "100outs/part2/100_100.out\n",
      "hi\n",
      "Processing 100in/part2//101_100.in\n",
      "100outs/part2/101_100.out\n",
      "hi\n",
      "Processing 100in/part2//102_100.in\n",
      "100outs/part2/102_100.out\n",
      "hi\n",
      "Processing 100in/part2//103_100.in\n",
      "100outs/part2/103_100.out\n",
      "hi\n",
      "Processing 100in/part2//104_100.in\n",
      "100outs/part2/104_100.out\n",
      "hi\n",
      "Processing 100in/part2//105_100.in\n",
      "100outs/part2/105_100.out\n",
      "hi\n",
      "Processing 100in/part2//106_100.in\n",
      "100outs/part2/106_100.out\n",
      "hi\n",
      "Processing 100in/part2//107_100.in\n",
      "100outs/part2/107_100.out\n",
      "hi\n",
      "Processing 100in/part2//108_100.in\n",
      "100outs/part2/108_100.out\n",
      "hi\n",
      "Processing 100in/part2//109_100.in\n",
      "100outs/part2/109_100.out\n",
      "hi\n",
      "Processing 100in/part2//110_100.in\n",
      "100outs/part2/110_100.out\n",
      "hi\n",
      "Processing 100in/part2//111_100.in\n",
      "100outs/part2/111_100.out\n",
      "hi\n",
      "Processing 100in/part2//112_100.in\n",
      "100outs/part2/112_100.out\n",
      "hi\n",
      "Processing 100in/part2//113_100.in\n",
      "100outs/part2/113_100.out\n",
      "hi\n",
      "Processing 100in/part2//114_100.in\n",
      "100outs/part2/114_100.out\n",
      "hi\n",
      "Processing 100in/part2//115_100.in\n",
      "100outs/part2/115_100.out\n",
      "hi\n",
      "Processing 100in/part2//116_100.in\n",
      "100outs/part2/116_100.out\n",
      "hi\n",
      "Processing 100in/part2//117_100.in\n",
      "100outs/part2/117_100.out\n",
      "hi\n",
      "Processing 100in/part2//118_100.in\n",
      "100outs/part2/118_100.out\n",
      "hi\n",
      "Processing 100in/part2//120_100.in\n",
      "100outs/part2/120_100.out\n",
      "hi\n",
      "Processing 100in/part2//121_100.in\n",
      "100outs/part2/121_100.out\n",
      "hi\n",
      "Processing 100in/part2//122_100.in\n",
      "100outs/part2/122_100.out\n",
      "hi\n",
      "Processing 100in/part2//123_100.in\n",
      "100outs/part2/123_100.out\n",
      "hi\n",
      "Processing 100in/part2//124_100.in\n",
      "100outs/part2/124_100.out\n",
      "hi\n",
      "Processing 100in/part2//125_100.in\n",
      "100outs/part2/125_100.out\n",
      "hi\n",
      "Processing 100in/part2//126_100.in\n",
      "100outs/part2/126_100.out\n",
      "hi\n",
      "Processing 100in/part2//127_100.in\n",
      "100outs/part2/127_100.out\n",
      "hi\n",
      "Processing 100in/part2//128_100.in\n",
      "100outs/part2/128_100.out\n",
      "hi\n",
      "Processing 100in/part2//130_100.in\n",
      "100outs/part2/130_100.out\n",
      "hi\n",
      "Processing 100in/part2//131_100.in\n",
      "100outs/part2/131_100.out\n",
      "hi\n",
      "Processing 100in/part2//132_100.in\n",
      "100outs/part2/132_100.out\n",
      "hi\n",
      "Processing 100in/part2//133_100.in\n",
      "100outs/part2/133_100.out\n",
      "hi\n",
      "Processing 100in/part2//134_100.in\n",
      "100outs/part2/134_100.out\n",
      "hi\n",
      "Processing 100in/part2//135_100.in\n",
      "100outs/part2/135_100.out\n",
      "hi\n",
      "Processing 100in/part2//136_100.in\n",
      "100outs/part2/136_100.out\n",
      "hi\n",
      "Processing 100in/part2//137_100.in\n",
      "100outs/part2/137_100.out\n",
      "hi\n",
      "Processing 100in/part2//139_100.in\n",
      "100outs/part2/139_100.out\n",
      "hi\n",
      "Processing 100in/part2//140_100.in\n",
      "100outs/part2/140_100.out\n",
      "hi\n",
      "Processing 100in/part2//141_100.in\n",
      "100outs/part2/141_100.out\n",
      "hi\n",
      "Processing 100in/part2//142_100.in\n",
      "100outs/part2/142_100.out\n",
      "hi\n",
      "Processing 100in/part2//144_100.in\n",
      "100outs/part2/144_100.out\n",
      "hi\n",
      "Processing 100in/part2//145_100.in\n",
      "100outs/part2/145_100.out\n",
      "hi\n",
      "Processing 100in/part2//146_100.in\n",
      "100outs/part2/146_100.out\n",
      "hi\n",
      "Processing 100in/part2//147_100.in\n",
      "100outs/part2/147_100.out\n",
      "hi\n",
      "Processing 100in/part2//148_100.in\n",
      "100outs/part2/148_100.out\n",
      "hi\n",
      "Processing 100in/part2//149_100.in\n",
      "100outs/part2/149_100.out\n",
      "hi\n",
      "Processing 100in/part2//150_100.in\n"
     ]
    }
   ],
   "source": [
    "%run solver.py --all 100in/part2/ 100outs/part2/"
   ]
  },
  {
   "cell_type": "code",
   "execution_count": null,
   "metadata": {},
   "outputs": [],
   "source": []
  },
  {
   "cell_type": "code",
   "execution_count": 109,
   "metadata": {},
   "outputs": [],
   "source": [
    "data = utils.read_file(\"inputs/1_50.in\")\n",
    "number_of_locations, number_of_houses, list_of_locations, list_of_houses, starting_location, adjacency_matrix = student_utils.data_parser(data)"
   ]
  },
  {
   "cell_type": "code",
   "execution_count": 110,
   "metadata": {},
   "outputs": [],
   "source": [
    "agraph, message = student_utils.adjacency_matrix_to_graph(adjacency_matrix)\n",
    "edgelist = student_utils.adjacency_matrix_to_edge_list(adjacency_matrix)"
   ]
  },
  {
   "cell_type": "code",
   "execution_count": 111,
   "metadata": {},
   "outputs": [],
   "source": [
    "nx.write_gexf(agraph, \"test.gexf\")"
   ]
  },
  {
   "cell_type": "code",
   "execution_count": null,
   "metadata": {},
   "outputs": [],
   "source": []
  },
  {
   "cell_type": "code",
   "execution_count": null,
   "metadata": {},
   "outputs": [],
   "source": []
  }
 ],
 "metadata": {
  "kernelspec": {
   "display_name": "Python 3",
   "language": "python",
   "name": "python3"
  },
  "language_info": {
   "codemirror_mode": {
    "name": "ipython",
    "version": 3
   },
   "file_extension": ".py",
   "mimetype": "text/x-python",
   "name": "python",
   "nbconvert_exporter": "python",
   "pygments_lexer": "ipython3",
   "version": "3.6.2"
  }
 },
 "nbformat": 4,
 "nbformat_minor": 4
}
